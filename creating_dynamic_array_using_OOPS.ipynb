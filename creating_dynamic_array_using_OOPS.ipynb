{
 "cells": [
  {
   "cell_type": "code",
   "execution_count": 107,
   "id": "6ca3caa5-93f0-4e9f-98af-4ccf3d6349bf",
   "metadata": {},
   "outputs": [],
   "source": [
    "import ctypes"
   ]
  },
  {
   "cell_type": "code",
   "execution_count": 108,
   "id": "061b5ce3-d6e7-437b-8843-59927e5fd57e",
   "metadata": {},
   "outputs": [],
   "source": [
    "class Mylist:\n",
    "    def __init__(self):\n",
    "        self.size = 1\n",
    "        self.n = 0\n",
    "        self.A = self.__make_array(self.size)\n",
    "\n",
    "    def __make_array(self, capacity):\n",
    "        return (capacity * ctypes.py_object)()\n",
    "\n",
    "    def __len__(self):\n",
    "        return self.n\n",
    "\n",
    "    def __str__(self):\n",
    "        result = ''\n",
    "        for i in range(self.n):\n",
    "          result += str(self.A[i]) + ','\n",
    "        return '[' + result[:-1] + ']'\n",
    "\n",
    "    def append(self, item):\n",
    "        if self.n == self.size:\n",
    "            self.__resize(self.size * 2)\n",
    "        self.A[self.n] = item\n",
    "        self.n += 1\n",
    "\n",
    "    def insert(self,pos,item):\n",
    "        if self.n == self.size:\n",
    "            self.__resize(self.size*2)\n",
    "        for i in range(self.n,pos,-1):\n",
    "            self.A[i] = self.A[i-1]\n",
    "        self.A[pos] = item\n",
    "        self.n += 1\n",
    "\n",
    "    def __delitem__(self,pos):\n",
    "        if 0 <= pos < self.n:\n",
    "            for i in range(pos, self.n-1):\n",
    "                self.A[i] = self.A[i+1]\n",
    "            self.n -= 1\n",
    "\n",
    "    def remove(self, item):\n",
    "        pos = self.find(item)\n",
    "        if type(pos) == int:\n",
    "            self.__delitem__(pos)\n",
    "        else:\n",
    "            return pos\n",
    " \n",
    "    def pop(self):\n",
    "        if self.n == 0:\n",
    "            print(\"Already an empty array\")\n",
    "        else:\n",
    "            print(self.A[self.n - 1])\n",
    "            self.n -= 1\n",
    "\n",
    "    def clear(self):\n",
    "        self.size = 1\n",
    "        self.n = 0\n",
    "        self.A = self.__make_array(self.size)\n",
    "\n",
    "    def find(self, item):\n",
    "        for i in range(self.n):\n",
    "            if self.A[i] == item:  # Removed str conversion\n",
    "                return i\n",
    "        return \"Item not found\"\n",
    "\n",
    "    def __resize(self, new_capacity):\n",
    "        B = self.__make_array(new_capacity)\n",
    "        for i in range(self.n):\n",
    "            B[i] = self.A[i]\n",
    "        self.A = B\n",
    "        self.size = new_capacity\n",
    "\n",
    "    def __getitem__(self, index):\n",
    "        if 0 <= index < self.n:\n",
    "            return self.A[index]\n",
    "        return \"Index out of range\"\n",
    "\n"
   ]
  },
  {
   "cell_type": "code",
   "execution_count": 109,
   "id": "a06afe47-5709-4562-b191-f66584a3ab67",
   "metadata": {},
   "outputs": [],
   "source": [
    "a = Mylist()"
   ]
  },
  {
   "cell_type": "code",
   "execution_count": 110,
   "id": "733e7e21-f09d-48ef-a5f5-8be2705462f7",
   "metadata": {
    "panel-layout": {
     "height": 0,
     "visible": true,
     "width": 100
    }
   },
   "outputs": [
    {
     "name": "stdout",
     "output_type": "stream",
     "text": [
      "[10,20]\n"
     ]
    }
   ],
   "source": [
    "a.append(10)\n",
    "a.append(20)\n",
    "print(a) "
   ]
  },
  {
   "cell_type": "code",
   "execution_count": 111,
   "id": "b2dce2ca-2ccd-4ddd-bc02-f142e7d8ab69",
   "metadata": {
    "panel-layout": {
     "height": 0,
     "visible": true,
     "width": 100
    }
   },
   "outputs": [
    {
     "name": "stdout",
     "output_type": "stream",
     "text": [
      "[10,15,20]\n"
     ]
    }
   ],
   "source": [
    "a.insert(1, 15)\n",
    "print(a)"
   ]
  },
  {
   "cell_type": "code",
   "execution_count": 112,
   "id": "8e94ca7f-dda3-430a-82e2-9af7027533e7",
   "metadata": {},
   "outputs": [
    {
     "name": "stdout",
     "output_type": "stream",
     "text": [
      "[10,20]\n"
     ]
    }
   ],
   "source": [
    "del a[1]\n",
    "print(a)\n"
   ]
  },
  {
   "cell_type": "code",
   "execution_count": 113,
   "id": "49d070c1-ac7f-4508-b3a9-3d0a7e753559",
   "metadata": {},
   "outputs": [
    {
     "name": "stdout",
     "output_type": "stream",
     "text": [
      "[10,30]\n"
     ]
    }
   ],
   "source": [
    "a.append(30)\n",
    "a.remove(20)\n",
    "print(a)"
   ]
  },
  {
   "cell_type": "code",
   "execution_count": 114,
   "id": "ce2cd128-cfc6-4d1b-8710-5f823529ab2e",
   "metadata": {},
   "outputs": [
    {
     "name": "stdout",
     "output_type": "stream",
     "text": [
      "30\n",
      "[10]\n"
     ]
    }
   ],
   "source": [
    "a.pop()\n",
    "print(a)"
   ]
  },
  {
   "cell_type": "code",
   "execution_count": 115,
   "id": "38604da2-8498-41cc-bcde-2c8f4c94173e",
   "metadata": {},
   "outputs": [
    {
     "name": "stdout",
     "output_type": "stream",
     "text": [
      "[]\n"
     ]
    }
   ],
   "source": [
    "a.clear()\n",
    "print(a)"
   ]
  },
  {
   "cell_type": "code",
   "execution_count": 116,
   "id": "c1d6715b-8d9b-43be-b089-7a28054896b5",
   "metadata": {},
   "outputs": [
    {
     "name": "stdout",
     "output_type": "stream",
     "text": [
      "1\n",
      "Item not found\n"
     ]
    }
   ],
   "source": [
    "a.append(100)\n",
    "a.append(200)\n",
    "print(a.find(200))\n",
    "print(a.find(300)) "
   ]
  },
  {
   "cell_type": "code",
   "execution_count": 117,
   "id": "7f9c3b8e-da60-4487-b721-529bc4dd565b",
   "metadata": {},
   "outputs": [
    {
     "name": "stdout",
     "output_type": "stream",
     "text": [
      "100\n",
      "Index out of range\n"
     ]
    }
   ],
   "source": [
    "print(a[0])\n",
    "print(a[5]) "
   ]
  },
  {
   "cell_type": "code",
   "execution_count": 118,
   "id": "1f4efcd8-3beb-477e-a457-9d4fa49aad50",
   "metadata": {},
   "outputs": [
    {
     "name": "stdout",
     "output_type": "stream",
     "text": [
      "2\n"
     ]
    }
   ],
   "source": [
    "print(len(a))"
   ]
  },
  {
   "cell_type": "code",
   "execution_count": 119,
   "id": "0f6983e5-5456-4b0f-8dfa-279d976611a9",
   "metadata": {},
   "outputs": [
    {
     "name": "stdout",
     "output_type": "stream",
     "text": [
      "[100,200]\n"
     ]
    }
   ],
   "source": [
    "print(str(a)) "
   ]
  }
 ],
 "metadata": {
  "kernelspec": {
   "display_name": "Python 3 (ipykernel)",
   "language": "python",
   "name": "python3"
  },
  "language_info": {
   "codemirror_mode": {
    "name": "ipython",
    "version": 3
   },
   "file_extension": ".py",
   "mimetype": "text/x-python",
   "name": "python",
   "nbconvert_exporter": "python",
   "pygments_lexer": "ipython3",
   "version": "3.12.7"
  },
  "panel-cell-order": [
   "733e7e21-f09d-48ef-a5f5-8be2705462f7",
   "b2dce2ca-2ccd-4ddd-bc02-f142e7d8ab69"
  ]
 },
 "nbformat": 4,
 "nbformat_minor": 5
}
